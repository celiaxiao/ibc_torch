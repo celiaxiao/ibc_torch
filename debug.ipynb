{
 "cells": [
  {
   "cell_type": "code",
   "execution_count": 1,
   "metadata": {},
   "outputs": [
    {
     "data": {
      "text/plain": [
       "tensor([ 2,  3,  4, 30])"
      ]
     },
     "execution_count": 1,
     "metadata": {},
     "output_type": "execute_result"
    }
   ],
   "source": [
    "import torch.nn as nn\n",
    "import torch\n",
    "import torch.nn.functional as F\n",
    "import torch.distributions as distributions\n",
    "# m = nn.Softmax()\n",
    "# input = torch.tensor([-1, 0., 1.])\n",
    "# output = m(input)\n",
    "# print(output)\n",
    "# input = torch.tensor([0, 1, 0, 1])\n",
    "# F.one_hot(input, num_classes=5).shape\n",
    "# probs = torch.tensor([[0.2,0.3,0.5],[0.5,0.5,0.5]])\n",
    "# logits = torch.log(probs)\n",
    "# # distr = distributions.Categorical(probs=logits)\n",
    "# # out = distr.sample()\n",
    "# out=torch.multinomial(torch.exp(logits), 5,replacement=True)\n",
    "# print(out)\n",
    "# input = torch.randint(0, 3, (5,3), dtype=torch.int64)\n",
    "# input=torch.tensor([[0, 2, 0],\n",
    "#         [2, 0, 0],\n",
    "#         [2, 2, 2],\n",
    "#         [2, 1, 1],\n",
    "#         [1, 1, 1]])\n",
    "# batch_size, count = input.shape\n",
    "# temp = torch.arange(batch_size) * count\n",
    "# temp = temp[:,None].expand(input.shape)\n",
    "# print(input, input+temp)\n",
    "# torch.bincount((input+temp).reshape(-1), minlength=count*batch_size).reshape([batch_size,-1])\n",
    "# y = input = torch.randint(0, 3, (5,3), dtype=torch.int64)\n",
    "# print(y)\n",
    "# torch.tile(y, (3,)).reshape([-1]+list (y.shape[1:]))\n",
    "# m = nn.Identity()\n",
    "# input = torch.randn(2, 4)\n",
    "# output = m(input)\n",
    "# print(input, output)\n",
    "# torch.zeros((2,3,4)).shape\n",
    "# input = torch.randint(0, 3, (5,3), dtype=torch.int64)\n",
    "# torch.repeat_interleave(torch.arange(15), input.reshape(-1)).shape\n",
    "# torch.normal(0, 1,size=input.shape).shape\n",
    "# no_grad = torch.tensor(3.0)\n",
    "# x = no_grad.clone().detach().requires_grad_(True)\n",
    "# # with tf.GradientTape() as g:\n",
    "# #   g.watch(x)\n",
    "# y = torch.exp(x) * x\n",
    "# y.backward()\n",
    "# print(x.grad.data,x, no_grad.requires_grad)\n",
    "# y_true = [[0, 1], [0, 0]]\n",
    "# y_pred = [[0.6, 0.4], [0.4, 0.6]]\n",
    "# kl_numpy = np.array(y_true)*np.log(np.array(y_true)/np.array(y_pred) + 1e-10)\n",
    "# print(kl_numpy)\n",
    "# print(kl_numpy.sum(axis=-1))\n",
    "# kl = nn.KLDivLoss(reduction='none')\n",
    "# kl( (torch.tensor(y_pred)).log(), (torch.tensor(y_true)+1e-10)).sum(-1)\n",
    "batch_size = 2\n",
    "nw = 3\n",
    "nh = 4\n",
    "nc = 5\n",
    "nhist = 6\n",
    "torch.concat([torch.tensor([batch_size]), torch.tensor([nw, nh, nc * nhist])], dim=0)"
   ]
  },
  {
   "cell_type": "code",
   "execution_count": 26,
   "metadata": {},
   "outputs": [
    {
     "ename": "AttributeError",
     "evalue": "module 'tensorflow._api.v2.random' has no attribute 'randn'",
     "output_type": "error",
     "traceback": [
      "\u001b[0;31m---------------------------------------------------------------------------\u001b[0m",
      "\u001b[0;31mAttributeError\u001b[0m                            Traceback (most recent call last)",
      "\u001b[0;32m<ipython-input-26-22a0c91ffe3d>\u001b[0m in \u001b[0;36m<module>\u001b[0;34m\u001b[0m\n\u001b[1;32m     39\u001b[0m \u001b[0mbatch_size\u001b[0m \u001b[0;34m=\u001b[0m \u001b[0;36m2\u001b[0m\u001b[0;34m\u001b[0m\u001b[0;34m\u001b[0m\u001b[0m\n\u001b[1;32m     40\u001b[0m \u001b[0mnum_action_samples\u001b[0m \u001b[0;34m=\u001b[0m \u001b[0;36m2048\u001b[0m\u001b[0;34m\u001b[0m\u001b[0;34m\u001b[0m\u001b[0m\n\u001b[0;32m---> 41\u001b[0;31m \u001b[0mactions_selected\u001b[0m \u001b[0;34m=\u001b[0m \u001b[0mtf\u001b[0m\u001b[0;34m.\u001b[0m\u001b[0mrandom\u001b[0m\u001b[0;34m.\u001b[0m\u001b[0mrandn\u001b[0m\u001b[0;34m(\u001b[0m\u001b[0;34m[\u001b[0m\u001b[0;36m4096\u001b[0m\u001b[0;34m]\u001b[0m\u001b[0;34m)\u001b[0m\u001b[0;34m\u001b[0m\u001b[0;34m\u001b[0m\u001b[0m\n\u001b[0m\u001b[1;32m     42\u001b[0m repeat_indices = tf.repeat(\n\u001b[1;32m     43\u001b[0m         tf.range(batch_size * num_action_samples), actions_selected)\n",
      "\u001b[0;31mAttributeError\u001b[0m: module 'tensorflow._api.v2.random' has no attribute 'randn'"
     ]
    }
   ],
   "source": [
    "import os\n",
    "os.environ[\"CUDA_VISIBLE_DEVICES\"] = '3'\n",
    "import tensorflow as tf\n",
    "import numpy as np\n",
    "# indices = [0, 1, 0, 1]\n",
    "# depth = 5\n",
    "# a=tf.one_hot(indices, depth)\n",
    "# print(a.shape)\n",
    "# samples = tf.random.categorical(tf.math.log([[0.2,0.3,0.5],[0.5,0.5,0.5]]), 5)\n",
    "# print(samples)\n",
    "# tf.identity(a)\n",
    "# tf.random.normal(a.shape).shape\n",
    "# x = tf.constant(3.0)\n",
    "# with tf.GradientTape() as g:\n",
    "#   g.watch(x)\n",
    "#   z = tf.exp(x)\n",
    "#   y = z*z\n",
    "# dy_dx = g.gradient(y, x)\n",
    "# print(dy_dx,x)\n",
    "# x *= x\n",
    "# with tf.GradientTape() as g:\n",
    "#   g.watch(x)\n",
    "#   y = x * x\n",
    "# dy_dx = g.gradient(y, x)\n",
    "# print(dy_dx)\n",
    "\n",
    "# y_true = [[0, 1], [0, 0]]\n",
    "# y_pred = [[0.6, 0.4], [0.4, 0.6]]\n",
    "# kl_numpy = np.array(y_true)*np.log(np.array(y_true)/np.array(y_pred) + 1e-10)\n",
    "\n",
    "# print(np.array(y_true)*np.log(np.array(y_true)/np.array(y_pred)+ 1e-10))\n",
    "# print(kl_numpy.sum(axis=-1))\n",
    "# # Using 'auto'/'sum_over_batch_size' reduction type.\n",
    "# kl = tf.keras.losses.KLDivergence()\n",
    "# kl(y_true, y_pred).numpy()\n",
    "# kl = tf.keras.losses.KLDivergence(\n",
    "#     reduction=tf.keras.losses.Reduction.NONE)\n",
    "# kl(y_true, y_pred).numpy()\n",
    "batch_size = 2\n",
    "num_action_samples = 2048\n",
    "actions_selected = tf.random.categorical([4096])\n",
    "repeat_indices = tf.repeat(\n",
    "        tf.range(batch_size * num_action_samples), actions_selected)\n",
    "print(repeat_indices.shape)"
   ]
  },
  {
   "cell_type": "code",
   "execution_count": 22,
   "metadata": {},
   "outputs": [
    {
     "name": "stdout",
     "output_type": "stream",
     "text": [
      "<class 'collections.OrderedDict'>\n",
      "4\n"
     ]
    }
   ],
   "source": [
    "from environments.particle.particle import ParticleEnv\n",
    "import gym\n",
    "import torch\n",
    "env = ParticleEnv()\n",
    "batch_size=2\n",
    "num_action_samples=2048\n",
    "obs = env.reset()\n",
    "# obs = torch.tensor(time_step)[None, Ellipsis]\n",
    "# obs = torch.concat([obs] * (batch_size * num_action_samples),\n",
    "#                             axis=0)\n",
    "# \"Batch\" the observations by replicating\n",
    "for key in obs.keys():\n",
    "    batch_obs = torch.tensor(obs[key])[None, Ellipsis]\n",
    "    obs[key] = torch.concat([batch_obs] * (batch_size * num_action_samples),axis=0)\n",
    "print(type(env.observation_space.spaces))\n",
    "num_dict=1\n",
    "if isinstance(env.observation_space.spaces, dict):\n",
    "    num_dict = len(env.observation_space.spaces.keys())\n",
    "print(num_dict)\n",
    "# env = suite_gym.wrap_env(env)\n",
    "# obs_spec, act_spec, _ = spec_utils.get_tensor_specs(env)\n",
    "# for key in list(env.observation_space.spaces):\n",
    "# env = gym.make(\"InvertedPendulum-v2\")\n",
    "# obs_dim = env.observation_space.shape[0]\n",
    "# act_dim = env.action_space.shape[0]\n",
    "# print(\"obs space\", env.observation_space, \"action space\",env.action_space)\n",
    "# print(\"obs space\", obs_dim, \"action space\",act_dim)"
   ]
  },
  {
   "cell_type": "code",
   "execution_count": 3,
   "metadata": {},
   "outputs": [
    {
     "name": "stdout",
     "output_type": "stream",
     "text": [
      "tensor([ 0.3684, -0.3474])\n"
     ]
    },
    {
     "data": {
      "image/png": "[encoded data removed]",
      "text/plain": [
       "<Figure size 432x288 with 1 Axes>"
      ]
     },
     "metadata": {
      "needs_background": "light"
     },
     "output_type": "display_data"
    },
    {
     "data": {
      "image/png": "[encoded data removed]",
      "text/plain": [
       "<Figure size 432x288 with 1 Axes>"
      ]
     },
     "metadata": {
      "needs_background": "light"
     },
     "output_type": "display_data"
    },
    {
     "data": {
      "image/png": "[encoded data removed]",
      "text/plain": [
       "<Figure size 432x288 with 1 Axes>"
      ]
     },
     "metadata": {
      "needs_background": "light"
     },
     "output_type": "display_data"
    },
    {
     "name": "stdout",
     "output_type": "stream",
     "text": [
      "Target bounds:\n",
      "[[-1. -1.]\n",
      " [ 1.  1.]]\n"
     ]
    }
   ],
   "source": [
    "import dataclasses\n",
    "from typing import Optional, Tuple\n",
    "\n",
    "import numpy as np\n",
    "import torch\n",
    "from torch.utils.data import Dataset\n",
    "from torchvision.transforms import ToTensor\n",
    "\n",
    "\n",
    "@dataclasses.dataclass\n",
    "class DatasetConfig:\n",
    "    dataset_size: int = 30\n",
    "    \"\"\"The size of the dataset. Useful for sample efficiency experiments.\"\"\"\n",
    "\n",
    "    resolution: Tuple[int, int] = (96, 96)\n",
    "    \"\"\"The resolution of the image.\"\"\"\n",
    "\n",
    "    pixel_size: int = 7\n",
    "    \"\"\"The size of the pixel whose coordinates we'd like to regress. Must be odd.\"\"\"\n",
    "\n",
    "    pixel_color: Tuple[int, int, int] = (0, 255, 0)\n",
    "    \"\"\"The color of the pixel whose coordinates we'd like to regress.\"\"\"\n",
    "\n",
    "    seed: Optional[int] = None\n",
    "    \"\"\"Whether to seed the dataset. Disabled if None.\"\"\"\n",
    "\n",
    "\n",
    "class CoordinateRegression(Dataset):\n",
    "    \"\"\"Regress the coordinates of a colored pixel block on a white canvas.\"\"\"\n",
    "\n",
    "    def __init__(self, config: DatasetConfig) -> None:\n",
    "        if not config.pixel_size % 2:\n",
    "            raise ValueError(\"'pixel_size' must be odd.\")\n",
    "\n",
    "        self.dataset_size = config.dataset_size\n",
    "        self.resolution = config.resolution\n",
    "        self.pixel_size = config.pixel_size\n",
    "        self.pixel_color = config.pixel_color\n",
    "        self.seed = config.seed\n",
    "\n",
    "        self.reset()\n",
    "\n",
    "    def reset(self) -> None:\n",
    "        if self.seed is not None:\n",
    "            np.random.seed(self.seed)\n",
    "\n",
    "        self._coordinates = self._sample_coordinates(self.dataset_size)\n",
    "        self._coordinates_scaled = self._scale_coordinates(self._coordinates)\n",
    "\n",
    "    def exclude(self, coordinates: np.ndarray) -> None:\n",
    "        \"\"\"Exclude the given coordinates, if present, from the previously sampled ones.\n",
    "\n",
    "        This is useful for ensuring the train set does not accidentally leak into the\n",
    "        test set.\n",
    "        \"\"\"\n",
    "        mask = (self.coordinates[:, None] == coordinates).all(-1).any(1)\n",
    "        num_matches = mask.sum()\n",
    "        while mask.sum() > 0:\n",
    "            self._coordinates[mask] = self._sample_coordinates(mask.sum())\n",
    "            mask = (self.coordinates[:, None] == coordinates).all(-1).any(1)\n",
    "        self._coordinates_scaled = self._scale_coordinates(self._coordinates)\n",
    "        print(f\"Resampled {num_matches} data points.\")\n",
    "\n",
    "    def get_target_bounds(self) -> np.ndarray:\n",
    "        \"\"\"Return per-dimension target min/max.\"\"\"\n",
    "        return np.array([[-1.0, -1.0], [1.0, 1.0]])\n",
    "\n",
    "    def _sample_coordinates(self, size: int) -> np.ndarray:\n",
    "        \"\"\"Helper method for generating pixel coordinates.\"\"\"\n",
    "        # Randomly generate pixel coordinates.\n",
    "        u = np.random.randint(0, self.resolution[0], size=size)\n",
    "        v = np.random.randint(0, self.resolution[1], size=size)\n",
    "\n",
    "        # Ensure we remain within bounds when we take the pixel size into account.\n",
    "        slack = self.pixel_size // 2\n",
    "        u = np.clip(u, a_min=slack, a_max=self.resolution[0] - 1 - slack)\n",
    "        v = np.clip(v, a_min=slack, a_max=self.resolution[1] - 1 - slack)\n",
    "\n",
    "        return np.vstack([u, v]).astype(np.int16).T\n",
    "\n",
    "    def _scale_coordinates(self, coords: np.ndarray) -> np.ndarray:\n",
    "        \"\"\"Helper method for scaling coordinates to the [-1, 1] range.\"\"\"\n",
    "        coords_scaled = np.array(coords, dtype=np.float32)\n",
    "        coords_scaled[:, 0] /= self.resolution[0] - 1\n",
    "        coords_scaled[:, 1] /= self.resolution[1] - 1\n",
    "        coords_scaled *= 2\n",
    "        coords_scaled -= 1\n",
    "        return coords_scaled\n",
    "\n",
    "    @property\n",
    "    def image_shape(self) -> Tuple[int, int, int]:\n",
    "        return self.resolution + (3,)\n",
    "\n",
    "    @property\n",
    "    def coordinates(self) -> np.ndarray:\n",
    "        return self._coordinates\n",
    "\n",
    "    @property\n",
    "    def coordinates_scaled(self) -> np.ndarray:\n",
    "        return self._coordinates_scaled\n",
    "\n",
    "    def __len__(self) -> int:\n",
    "        return self.dataset_size\n",
    "\n",
    "    def __getitem__(self, index: int) -> Tuple[torch.Tensor, torch.Tensor]:\n",
    "        uv = self._coordinates[index]\n",
    "        uv_scaled = self._coordinates_scaled[index]\n",
    "\n",
    "        image = np.full(self.image_shape, fill_value=255, dtype=np.uint8)\n",
    "        image[\n",
    "            uv[0] - self.pixel_size // 2 : uv[0] + self.pixel_size // 2 + 1,\n",
    "            uv[1] - self.pixel_size // 2 : uv[1] + self.pixel_size // 2 + 1,\n",
    "        ] = self.pixel_color\n",
    "\n",
    "        image_tensor = ToTensor()(image)\n",
    "        target_tensor = torch.as_tensor(uv_scaled, dtype=torch.float32)\n",
    "\n",
    "        return image_tensor, target_tensor\n",
    "\n",
    "\n",
    "if __name__ == \"__main__\":\n",
    "    import matplotlib.pyplot as plt\n",
    "    from scipy.spatial import ConvexHull\n",
    "\n",
    "    dataset = CoordinateRegression(DatasetConfig(dataset_size=30, seed=0))\n",
    "\n",
    "    # Visualize one instance.\n",
    "    image, target = dataset[np.random.randint(len(dataset))]\n",
    "    print(target)\n",
    "    plt.imshow(image.permute(1, 2, 0).numpy())\n",
    "    plt.show()\n",
    "\n",
    "    # Plot target distribution and convex hull.\n",
    "    targets = dataset.coordinates\n",
    "    plt.scatter(targets[:, 0], targets[:, 1], marker=\"x\", c=\"black\")\n",
    "    for simplex in ConvexHull(targets).simplices:\n",
    "        plt.plot(\n",
    "            targets[simplex, 0],\n",
    "            targets[simplex, 1],\n",
    "            \"--\",\n",
    "            zorder=2,\n",
    "            alpha=0.5,\n",
    "            c=\"black\",\n",
    "        )\n",
    "    plt.xlim(0, dataset.resolution[1])\n",
    "    plt.ylim(0, dataset.resolution[0])\n",
    "    plt.show()\n",
    "\n",
    "    # Plot target distribution and convex hull.\n",
    "    targets = dataset.coordinates_scaled\n",
    "    plt.scatter(targets[:, 0], targets[:, 1], marker=\"x\", c=\"black\")\n",
    "    for simplex in ConvexHull(targets).simplices:\n",
    "        plt.plot(\n",
    "            targets[simplex, 0],\n",
    "            targets[simplex, 1],\n",
    "            \"--\",\n",
    "            zorder=2,\n",
    "            alpha=0.5,\n",
    "            c=\"black\",\n",
    "        )\n",
    "    plt.xlim(-1, 1)\n",
    "    plt.ylim(-1, 1)\n",
    "    plt.show()\n",
    "\n",
    "    print(f\"Target bounds:\")\n",
    "    print(dataset.get_target_bounds())\n"
   ]
  },
  {
   "cell_type": "code",
   "execution_count": 2,
   "metadata": {},
   "outputs": [
    {
     "name": "stdout",
     "output_type": "stream",
     "text": [
      "Collecting scipy\n",
      "  Using cached scipy-1.5.4-cp36-cp36m-manylinux1_x86_64.whl (25.9 MB)\n",
      "Requirement already satisfied: numpy>=1.14.5 in /home/caiwei/anaconda3/envs/py36/lib/python3.6/site-packages (from scipy) (1.19.2)\n",
      "Installing collected packages: scipy\n",
      "\u001b[31mERROR: pip's dependency resolver does not currently take into account all the packages that are installed. This behaviour is the source of the following dependency conflicts.\n",
      "spinup 0.2.0 requires cloudpickle==1.2.1, but you have cloudpickle 1.6.0 which is incompatible.\n",
      "spinup 0.2.0 requires gym[atari,box2d,classic_control]~=0.15.3, but you have gym 0.19.0 which is incompatible.\n",
      "spinup 0.2.0 requires tensorflow<2.0,>=1.8.0, but you have tensorflow 2.6.2 which is incompatible.\n",
      "spinup 0.2.0 requires torch==1.3.1, but you have torch 1.10.2 which is incompatible.\u001b[0m\n",
      "Successfully installed scipy-1.5.4\n",
      "Note: you may need to restart the kernel to use updated packages.\n"
     ]
    }
   ],
   "source": [
    "%pip install scipy"
   ]
  },
  {
   "cell_type": "code",
   "execution_count": 13,
   "metadata": {},
   "outputs": [
    {
     "name": "stdout",
     "output_type": "stream",
     "text": [
      "timestep [0.54878577 0.6373976  0.36660476 0.84392894]\n",
      "torch.Size([4096, 4])\n"
     ]
    }
   ],
   "source": [
    "import torch\n",
    "import numpy as np\n",
    "time_step = np.random.rand(4)\n",
    "batch_size = 2\n",
    "num_action_samples = 2048\n",
    "print(\"timestep\", time_step)\n",
    "obs = torch.tensor(time_step)[None, Ellipsis]\n",
    "obs = torch.concat([obs] * (batch_size * num_action_samples),\n",
    "                        axis=0)\n",
    "print(obs.shape)"
   ]
  },
  {
   "cell_type": "code",
   "execution_count": 1,
   "metadata": {},
   "outputs": [
    {
     "ename": "KeyboardInterrupt",
     "evalue": "",
     "output_type": "error",
     "traceback": [
      "\u001b[0;31m---------------------------------------------------------------------------\u001b[0m",
      "\u001b[0;31mKeyboardInterrupt\u001b[0m                         Traceback (most recent call last)",
      "\u001b[0;32m<ipython-input-1-9488d4ebb648>\u001b[0m in \u001b[0;36m<module>\u001b[0;34m\u001b[0m\n\u001b[0;32m----> 1\u001b[0;31m \u001b[0;32mfrom\u001b[0m \u001b[0mstable_baselines3\u001b[0m\u001b[0;34m.\u001b[0m\u001b[0mcommon\u001b[0m\u001b[0;34m.\u001b[0m\u001b[0mevaluation\u001b[0m \u001b[0;32mimport\u001b[0m \u001b[0mevaluate_policy\u001b[0m\u001b[0;34m\u001b[0m\u001b[0;34m\u001b[0m\u001b[0m\n\u001b[0m\u001b[1;32m      2\u001b[0m \u001b[0;32mimport\u001b[0m \u001b[0mgym\u001b[0m\u001b[0;34m\u001b[0m\u001b[0;34m\u001b[0m\u001b[0m\n\u001b[1;32m      3\u001b[0m \u001b[0;34m\u001b[0m\u001b[0m\n\u001b[1;32m      4\u001b[0m \u001b[0;32mfrom\u001b[0m \u001b[0mstable_baselines3\u001b[0m \u001b[0;32mimport\u001b[0m \u001b[0mPPO\u001b[0m\u001b[0;34m\u001b[0m\u001b[0;34m\u001b[0m\u001b[0m\n\u001b[1;32m      5\u001b[0m \u001b[0;32mfrom\u001b[0m \u001b[0mstable_baselines3\u001b[0m\u001b[0;34m.\u001b[0m\u001b[0mcommon\u001b[0m\u001b[0;34m.\u001b[0m\u001b[0menv_util\u001b[0m \u001b[0;32mimport\u001b[0m \u001b[0mmake_vec_env\u001b[0m\u001b[0;34m\u001b[0m\u001b[0;34m\u001b[0m\u001b[0m\n",
      "\u001b[0;32m~/anaconda3/envs/py36/lib/python3.6/site-packages/stable_baselines3/__init__.py\u001b[0m in \u001b[0;36m<module>\u001b[0;34m\u001b[0m\n\u001b[1;32m      1\u001b[0m \u001b[0;32mimport\u001b[0m \u001b[0mos\u001b[0m\u001b[0;34m\u001b[0m\u001b[0;34m\u001b[0m\u001b[0m\n\u001b[1;32m      2\u001b[0m \u001b[0;34m\u001b[0m\u001b[0m\n\u001b[0;32m----> 3\u001b[0;31m \u001b[0;32mfrom\u001b[0m \u001b[0mstable_baselines3\u001b[0m\u001b[0;34m.\u001b[0m\u001b[0ma2c\u001b[0m \u001b[0;32mimport\u001b[0m \u001b[0mA2C\u001b[0m\u001b[0;34m\u001b[0m\u001b[0;34m\u001b[0m\u001b[0m\n\u001b[0m\u001b[1;32m      4\u001b[0m \u001b[0;32mfrom\u001b[0m \u001b[0mstable_baselines3\u001b[0m\u001b[0;34m.\u001b[0m\u001b[0mcommon\u001b[0m\u001b[0;34m.\u001b[0m\u001b[0mutils\u001b[0m \u001b[0;32mimport\u001b[0m \u001b[0mget_system_info\u001b[0m\u001b[0;34m\u001b[0m\u001b[0;34m\u001b[0m\u001b[0m\n\u001b[1;32m      5\u001b[0m \u001b[0;32mfrom\u001b[0m \u001b[0mstable_baselines3\u001b[0m\u001b[0;34m.\u001b[0m\u001b[0mddpg\u001b[0m \u001b[0;32mimport\u001b[0m \u001b[0mDDPG\u001b[0m\u001b[0;34m\u001b[0m\u001b[0;34m\u001b[0m\u001b[0m\n",
      "\u001b[0;32m~/anaconda3/envs/py36/lib/python3.6/site-packages/stable_baselines3/a2c/__init__.py\u001b[0m in \u001b[0;36m<module>\u001b[0;34m\u001b[0m\n\u001b[0;32m----> 1\u001b[0;31m \u001b[0;32mfrom\u001b[0m \u001b[0mstable_baselines3\u001b[0m\u001b[0;34m.\u001b[0m\u001b[0ma2c\u001b[0m\u001b[0;34m.\u001b[0m\u001b[0ma2c\u001b[0m \u001b[0;32mimport\u001b[0m \u001b[0mA2C\u001b[0m\u001b[0;34m\u001b[0m\u001b[0;34m\u001b[0m\u001b[0m\n\u001b[0m\u001b[1;32m      2\u001b[0m \u001b[0;32mfrom\u001b[0m \u001b[0mstable_baselines3\u001b[0m\u001b[0;34m.\u001b[0m\u001b[0ma2c\u001b[0m\u001b[0;34m.\u001b[0m\u001b[0mpolicies\u001b[0m \u001b[0;32mimport\u001b[0m \u001b[0mCnnPolicy\u001b[0m\u001b[0;34m,\u001b[0m \u001b[0mMlpPolicy\u001b[0m\u001b[0;34m,\u001b[0m \u001b[0mMultiInputPolicy\u001b[0m\u001b[0;34m\u001b[0m\u001b[0;34m\u001b[0m\u001b[0m\n",
      "\u001b[0;32m~/anaconda3/envs/py36/lib/python3.6/site-packages/stable_baselines3/a2c/a2c.py\u001b[0m in \u001b[0;36m<module>\u001b[0;34m\u001b[0m\n\u001b[1;32m      1\u001b[0m \u001b[0;32mfrom\u001b[0m \u001b[0mtyping\u001b[0m \u001b[0;32mimport\u001b[0m \u001b[0mAny\u001b[0m\u001b[0;34m,\u001b[0m \u001b[0mDict\u001b[0m\u001b[0;34m,\u001b[0m \u001b[0mOptional\u001b[0m\u001b[0;34m,\u001b[0m \u001b[0mType\u001b[0m\u001b[0;34m,\u001b[0m \u001b[0mUnion\u001b[0m\u001b[0;34m\u001b[0m\u001b[0;34m\u001b[0m\u001b[0m\n\u001b[1;32m      2\u001b[0m \u001b[0;34m\u001b[0m\u001b[0m\n\u001b[0;32m----> 3\u001b[0;31m \u001b[0;32mimport\u001b[0m \u001b[0mtorch\u001b[0m \u001b[0;32mas\u001b[0m \u001b[0mth\u001b[0m\u001b[0;34m\u001b[0m\u001b[0;34m\u001b[0m\u001b[0m\n\u001b[0m\u001b[1;32m      4\u001b[0m \u001b[0;32mfrom\u001b[0m \u001b[0mgym\u001b[0m \u001b[0;32mimport\u001b[0m \u001b[0mspaces\u001b[0m\u001b[0;34m\u001b[0m\u001b[0;34m\u001b[0m\u001b[0m\n\u001b[1;32m      5\u001b[0m \u001b[0;32mfrom\u001b[0m \u001b[0mtorch\u001b[0m\u001b[0;34m.\u001b[0m\u001b[0mnn\u001b[0m \u001b[0;32mimport\u001b[0m \u001b[0mfunctional\u001b[0m \u001b[0;32mas\u001b[0m \u001b[0mF\u001b[0m\u001b[0;34m\u001b[0m\u001b[0;34m\u001b[0m\u001b[0m\n",
      "\u001b[0;32m~/anaconda3/envs/py36/lib/python3.6/site-packages/torch/__init__.py\u001b[0m in \u001b[0;36m<module>\u001b[0;34m\u001b[0m\n\u001b[1;32m    611\u001b[0m \u001b[0;34m\u001b[0m\u001b[0m\n\u001b[1;32m    612\u001b[0m \u001b[0;31m# Shared memory manager needs to know the exact location of manager executable\u001b[0m\u001b[0;34m\u001b[0m\u001b[0;34m\u001b[0m\u001b[0;34m\u001b[0m\u001b[0m\n\u001b[0;32m--> 613\u001b[0;31m \u001b[0m_C\u001b[0m\u001b[0;34m.\u001b[0m\u001b[0m_initExtension\u001b[0m\u001b[0;34m(\u001b[0m\u001b[0mmanager_path\u001b[0m\u001b[0;34m(\u001b[0m\u001b[0;34m)\u001b[0m\u001b[0;34m)\u001b[0m\u001b[0;34m\u001b[0m\u001b[0;34m\u001b[0m\u001b[0m\n\u001b[0m\u001b[1;32m    614\u001b[0m \u001b[0;32mdel\u001b[0m \u001b[0mmanager_path\u001b[0m\u001b[0;34m\u001b[0m\u001b[0;34m\u001b[0m\u001b[0m\n\u001b[1;32m    615\u001b[0m \u001b[0;34m\u001b[0m\u001b[0m\n",
      "\u001b[0;32m~/anaconda3/envs/py36/lib/python3.6/site-packages/torch/cuda/__init__.py\u001b[0m in \u001b[0;36m<module>\u001b[0;34m\u001b[0m\n\u001b[1;32m    683\u001b[0m \u001b[0;32mfrom\u001b[0m \u001b[0;34m.\u001b[0m \u001b[0;32mimport\u001b[0m \u001b[0mprofiler\u001b[0m\u001b[0;34m\u001b[0m\u001b[0;34m\u001b[0m\u001b[0m\n\u001b[1;32m    684\u001b[0m \u001b[0;32mfrom\u001b[0m \u001b[0;34m.\u001b[0m \u001b[0;32mimport\u001b[0m \u001b[0mnvtx\u001b[0m\u001b[0;34m\u001b[0m\u001b[0;34m\u001b[0m\u001b[0m\n\u001b[0;32m--> 685\u001b[0;31m \u001b[0;32mfrom\u001b[0m \u001b[0;34m.\u001b[0m \u001b[0;32mimport\u001b[0m \u001b[0mamp\u001b[0m\u001b[0;34m\u001b[0m\u001b[0;34m\u001b[0m\u001b[0m\n\u001b[0m",
      "\u001b[0;32m~/anaconda3/envs/py36/lib/python3.6/site-packages/torch/cuda/amp/__init__.py\u001b[0m in \u001b[0;36m<module>\u001b[0;34m\u001b[0m\n\u001b[0;32m----> 1\u001b[0;31m \u001b[0;32mfrom\u001b[0m \u001b[0;34m.\u001b[0m\u001b[0mautocast_mode\u001b[0m \u001b[0;32mimport\u001b[0m \u001b[0mautocast\u001b[0m\u001b[0;34m,\u001b[0m \u001b[0mcustom_fwd\u001b[0m\u001b[0;34m,\u001b[0m \u001b[0mcustom_bwd\u001b[0m  \u001b[0;31m# noqa: F401\u001b[0m\u001b[0;34m\u001b[0m\u001b[0;34m\u001b[0m\u001b[0m\n\u001b[0m\u001b[1;32m      2\u001b[0m \u001b[0;32mfrom\u001b[0m \u001b[0;34m.\u001b[0m\u001b[0mgrad_scaler\u001b[0m \u001b[0;32mimport\u001b[0m \u001b[0mGradScaler\u001b[0m  \u001b[0;31m# noqa: F401\u001b[0m\u001b[0;34m\u001b[0m\u001b[0;34m\u001b[0m\u001b[0m\n",
      "\u001b[0;32m~/anaconda3/envs/py36/lib/python3.6/site-packages/torch/cuda/amp/autocast_mode.py\u001b[0m in \u001b[0;36m<module>\u001b[0;34m\u001b[0m\n\u001b[1;32m      3\u001b[0m \u001b[0;32mimport\u001b[0m \u001b[0mcollections\u001b[0m\u001b[0;34m\u001b[0m\u001b[0;34m\u001b[0m\u001b[0m\n\u001b[1;32m      4\u001b[0m \u001b[0;32mtry\u001b[0m\u001b[0;34m:\u001b[0m\u001b[0;34m\u001b[0m\u001b[0;34m\u001b[0m\u001b[0m\n\u001b[0;32m----> 5\u001b[0;31m     \u001b[0;32mimport\u001b[0m \u001b[0mnumpy\u001b[0m \u001b[0;32mas\u001b[0m \u001b[0mnp\u001b[0m\u001b[0;34m\u001b[0m\u001b[0;34m\u001b[0m\u001b[0m\n\u001b[0m\u001b[1;32m      6\u001b[0m     \u001b[0mHAS_NUMPY\u001b[0m \u001b[0;34m=\u001b[0m \u001b[0;32mTrue\u001b[0m\u001b[0;34m\u001b[0m\u001b[0;34m\u001b[0m\u001b[0m\n\u001b[1;32m      7\u001b[0m \u001b[0;32mexcept\u001b[0m \u001b[0mModuleNotFoundError\u001b[0m\u001b[0;34m:\u001b[0m\u001b[0;34m\u001b[0m\u001b[0;34m\u001b[0m\u001b[0m\n",
      "\u001b[0;32m~/anaconda3/envs/py36/lib/python3.6/site-packages/numpy/__init__.py\u001b[0m in \u001b[0;36m<module>\u001b[0;34m\u001b[0m\n\u001b[1;32m    140\u001b[0m     \u001b[0;32mfrom\u001b[0m \u001b[0;34m.\u001b[0m \u001b[0;32mimport\u001b[0m \u001b[0m_distributor_init\u001b[0m\u001b[0;34m\u001b[0m\u001b[0;34m\u001b[0m\u001b[0m\n\u001b[1;32m    141\u001b[0m \u001b[0;34m\u001b[0m\u001b[0m\n\u001b[0;32m--> 142\u001b[0;31m     \u001b[0;32mfrom\u001b[0m \u001b[0;34m.\u001b[0m \u001b[0;32mimport\u001b[0m \u001b[0mcore\u001b[0m\u001b[0;34m\u001b[0m\u001b[0;34m\u001b[0m\u001b[0m\n\u001b[0m\u001b[1;32m    143\u001b[0m     \u001b[0;32mfrom\u001b[0m \u001b[0;34m.\u001b[0m\u001b[0mcore\u001b[0m \u001b[0;32mimport\u001b[0m \u001b[0;34m*\u001b[0m\u001b[0;34m\u001b[0m\u001b[0;34m\u001b[0m\u001b[0m\n\u001b[1;32m    144\u001b[0m     \u001b[0;32mfrom\u001b[0m \u001b[0;34m.\u001b[0m \u001b[0;32mimport\u001b[0m \u001b[0mcompat\u001b[0m\u001b[0;34m\u001b[0m\u001b[0;34m\u001b[0m\u001b[0m\n",
      "\u001b[0;32m~/anaconda3/envs/py36/lib/python3.6/site-packages/numpy/core/__init__.py\u001b[0m in \u001b[0;36m<module>\u001b[0;34m\u001b[0m\n\u001b[1;32m     76\u001b[0m \u001b[0;32mfrom\u001b[0m \u001b[0;34m.\u001b[0m \u001b[0;32mimport\u001b[0m \u001b[0mfromnumeric\u001b[0m\u001b[0;34m\u001b[0m\u001b[0;34m\u001b[0m\u001b[0m\n\u001b[1;32m     77\u001b[0m \u001b[0;32mfrom\u001b[0m \u001b[0;34m.\u001b[0m\u001b[0mfromnumeric\u001b[0m \u001b[0;32mimport\u001b[0m \u001b[0;34m*\u001b[0m\u001b[0;34m\u001b[0m\u001b[0;34m\u001b[0m\u001b[0m\n\u001b[0;32m---> 78\u001b[0;31m \u001b[0;32mfrom\u001b[0m \u001b[0;34m.\u001b[0m \u001b[0;32mimport\u001b[0m \u001b[0mdefchararray\u001b[0m \u001b[0;32mas\u001b[0m \u001b[0mchar\u001b[0m\u001b[0;34m\u001b[0m\u001b[0;34m\u001b[0m\u001b[0m\n\u001b[0m\u001b[1;32m     79\u001b[0m \u001b[0;32mfrom\u001b[0m \u001b[0;34m.\u001b[0m \u001b[0;32mimport\u001b[0m \u001b[0mrecords\u001b[0m \u001b[0;32mas\u001b[0m \u001b[0mrec\u001b[0m\u001b[0;34m\u001b[0m\u001b[0;34m\u001b[0m\u001b[0m\n\u001b[1;32m     80\u001b[0m \u001b[0;32mfrom\u001b[0m \u001b[0;34m.\u001b[0m\u001b[0mrecords\u001b[0m \u001b[0;32mimport\u001b[0m \u001b[0;34m*\u001b[0m\u001b[0;34m\u001b[0m\u001b[0;34m\u001b[0m\u001b[0m\n",
      "\u001b[0;32m~/anaconda3/envs/py36/lib/python3.6/site-packages/numpy/core/defchararray.py\u001b[0m in \u001b[0;36m<module>\u001b[0;34m\u001b[0m\n\u001b[1;32m    804\u001b[0m \u001b[0;34m\u001b[0m\u001b[0m\n\u001b[1;32m    805\u001b[0m \u001b[0;34m\u001b[0m\u001b[0m\n\u001b[0;32m--> 806\u001b[0;31m \u001b[0;34m@\u001b[0m\u001b[0marray_function_dispatch\u001b[0m\u001b[0;34m(\u001b[0m\u001b[0m_unary_op_dispatcher\u001b[0m\u001b[0;34m)\u001b[0m\u001b[0;34m\u001b[0m\u001b[0;34m\u001b[0m\u001b[0m\n\u001b[0m\u001b[1;32m    807\u001b[0m \u001b[0;32mdef\u001b[0m \u001b[0misdigit\u001b[0m\u001b[0;34m(\u001b[0m\u001b[0ma\u001b[0m\u001b[0;34m)\u001b[0m\u001b[0;34m:\u001b[0m\u001b[0;34m\u001b[0m\u001b[0;34m\u001b[0m\u001b[0m\n\u001b[1;32m    808\u001b[0m     \"\"\"\n",
      "\u001b[0;32m~/anaconda3/envs/py36/lib/python3.6/site-packages/numpy/core/overrides.py\u001b[0m in \u001b[0;36mdecorator\u001b[0;34m(implementation)\u001b[0m\n\u001b[1;32m    188\u001b[0m         \u001b[0mexec\u001b[0m\u001b[0;34m(\u001b[0m\u001b[0msource_object\u001b[0m\u001b[0;34m,\u001b[0m \u001b[0mscope\u001b[0m\u001b[0;34m)\u001b[0m\u001b[0;34m\u001b[0m\u001b[0;34m\u001b[0m\u001b[0m\n\u001b[1;32m    189\u001b[0m \u001b[0;34m\u001b[0m\u001b[0m\n\u001b[0;32m--> 190\u001b[0;31m         \u001b[0mpublic_api\u001b[0m \u001b[0;34m=\u001b[0m \u001b[0mscope\u001b[0m\u001b[0;34m[\u001b[0m\u001b[0mimplementation\u001b[0m\u001b[0;34m.\u001b[0m\u001b[0m__name__\u001b[0m\u001b[0;34m]\u001b[0m\u001b[0;34m\u001b[0m\u001b[0;34m\u001b[0m\u001b[0m\n\u001b[0m\u001b[1;32m    191\u001b[0m \u001b[0;34m\u001b[0m\u001b[0m\n\u001b[1;32m    192\u001b[0m         \u001b[0;32mif\u001b[0m \u001b[0mmodule\u001b[0m \u001b[0;32mis\u001b[0m \u001b[0;32mnot\u001b[0m \u001b[0;32mNone\u001b[0m\u001b[0;34m:\u001b[0m\u001b[0;34m\u001b[0m\u001b[0;34m\u001b[0m\u001b[0m\n",
      "\u001b[0;31mKeyboardInterrupt\u001b[0m: "
     ]
    }
   ],
   "source": [
    "from stable_baselines3.common.evaluation import evaluate_policy\n",
    "import gym\n",
    "\n",
    "from stable_baselines3 import PPO\n",
    "from stable_baselines3.common.env_util import make_vec_env\n",
    "from stable_baselines3.common.vec_env import VecNormalize\n",
    "\n",
    "env = make_vec_env(\"HalfCheetah-v3\", n_envs=20, seed=0)\n",
    "# env = VecNormalize(env, training=False, norm_reward=False)\n",
    "# env = gym.make(\"HalfCheetah-v3\",)\n",
    "model = PPO.load('baseline_ppo_{i}.pth')\n",
    "mean_reward, std_reward = evaluate_policy(model, env, n_eval_episodes=10)\n",
    "print(f\"mean_reward={mean_reward:.2f} +/- {std_reward}\")"
   ]
  }
 ],
 "metadata": {
  "interpreter": {
   "hash": "4a971fd78213c9fafa859c4586ff097b672d67a547b2dd340c3d8eb7b08c1708"
  },
  "kernelspec": {
   "display_name": "Python 3.6.9 ('py36': conda)",
   "language": "python",
   "name": "python3"
  },
  "language_info": {
   "codemirror_mode": {
    "name": "ipython",
    "version": 3
   },
   "file_extension": ".py",
   "mimetype": "text/x-python",
   "name": "python",
   "nbconvert_exporter": "python",
   "pygments_lexer": "ipython3",
   "version": "3.6.9"
  },
  "orig_nbformat": 4
 },
 "nbformat": 4,
 "nbformat_minor": 2
}
