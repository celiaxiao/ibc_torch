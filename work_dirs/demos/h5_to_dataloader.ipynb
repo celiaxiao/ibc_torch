{
 "cells": [
  {
   "cell_type": "markdown",
   "metadata": {},
   "source": [
    "## Helper script to convert data in .h5 to pytorch dataloader"
   ]
  },
  {
   "cell_type": "code",
   "execution_count": 1,
   "metadata": {},
   "outputs": [
    {
     "name": "stdout",
     "output_type": "stream",
     "text": [
      "cupy is not installed.\n"
     ]
    }
   ],
   "source": [
    "from pyrl.utils.data import GDict\n",
    "import torch\n",
    "from torch.utils.data import Dataset, DataLoader\n",
    "import tqdm as tqdm\n",
    "import numpy as np\n",
    "from mani_skill2.envs import *\n",
    "import gym\n",
    "import json"
   ]
  },
  {
   "cell_type": "code",
   "execution_count": 2,
   "metadata": {},
   "outputs": [],
   "source": [
    "import os\n",
    "os.environ[\"CUDA_VISIBLE_DEVICES\"]=\"1\""
   ]
  },
  {
   "cell_type": "code",
   "execution_count": 4,
   "metadata": {},
   "outputs": [],
   "source": [
    "h5_demo = GDict.from_hdf5(\"/home/yihe/ibc_torch/work_dirs/demos/hang_demo.none.pd_joint_delta_pos.h5\")\n",
    "json_data = json.load(open('/home/yihe/ibc_torch/work_dirs/demos/trajectory.none.pd_joint_delta_pos.json'))"
   ]
  },
  {
   "cell_type": "code",
   "execution_count": 8,
   "metadata": {},
   "outputs": [
    {
     "name": "stdout",
     "output_type": "stream",
     "text": [
      "Warp initialized:\n",
      "   Version: 0.3.1\n",
      "   CUDA device: NVIDIA GeForce GTX 1080 Ti\n",
      "   Kernel cache: /home/yihe/.cache/warp/0.3.1\n"
     ]
    },
    {
     "name": "stderr",
     "output_type": "stream",
     "text": [
      "\u001b[32m2022-08-05 16:43:59,575 - mani_skill2 - INFO - load sdfs from file\u001b[0m\n"
     ]
    }
   ],
   "source": [
    "env = gym.make(\"Hang-v0\", obs_mode=\"particles\", control_mode = \"pd_joint_delta_pos\")"
   ]
  },
  {
   "cell_type": "code",
   "execution_count": 16,
   "metadata": {},
   "outputs": [],
   "source": [
    "observations = []\n",
    "actions = []"
   ]
  },
  {
   "cell_type": "code",
   "execution_count": 17,
   "metadata": {},
   "outputs": [],
   "source": [
    "episode_count = 0\n",
    "\n",
    "for episode in json_data['episodes']:\n",
    "    episode_id = 'traj_' + str(episode['episode_id'])\n",
    "    env.reset(seed=episode[\"episode_seed\"])\n",
    "\n",
    "    for action in h5_demo[episode_id]['actions']:\n",
    "        obs = env.get_obs()\n",
    "        xyz = obs['particles']['x'][np.random.choice(range(len(obs['particles']['x'])), size=1024, replace=False)]\n",
    "        agent = np.hstack((obs['agent']['qpos'], obs['agent']['qvel'], env.rod.get_pose().p,env.rod.get_pose().q))\n",
    "        observations.append((xyz, agent))\n",
    "        actions.append(action)\n",
    "    \n",
    "    episode_count += 1\n",
    "    if episode_count == 10:\n",
    "        break"
   ]
  },
  {
   "cell_type": "code",
   "execution_count": 23,
   "metadata": {},
   "outputs": [],
   "source": [
    "np.save('/home/yihe/ibc_torch/work_dirs/demos/hang_obs.npy', np.array(observations, dtype=object))\n",
    "np.save('/home/yihe/ibc_torch/work_dirs/demos/hang_act.npy', actions)"
   ]
  },
  {
   "cell_type": "code",
   "execution_count": 4,
   "metadata": {},
   "outputs": [
    {
     "data": {
      "text/plain": [
       "(2048, 3)"
      ]
     },
     "execution_count": 4,
     "metadata": {},
     "output_type": "execute_result"
    }
   ],
   "source": [
    "h5_demo['traj_0']['actions'][0]\n",
    "h5_demo['traj_0']['obs']['xyz'][0].shape"
   ]
  },
  {
   "cell_type": "code",
   "execution_count": 7,
   "metadata": {},
   "outputs": [
    {
     "data": {
      "text/plain": [
       "1.0"
      ]
     },
     "execution_count": 7,
     "metadata": {},
     "output_type": "execute_result"
    }
   ],
   "source": [
    "h5_demo['traj_0']['actions'].max()"
   ]
  },
  {
   "cell_type": "code",
   "execution_count": 5,
   "metadata": {},
   "outputs": [
    {
     "name": "stdout",
     "output_type": "stream",
     "text": [
      "Warp initialized:\n",
      "   Version: 0.3.1\n",
      "   CUDA device: NVIDIA GeForce GTX 1080 Ti\n",
      "   Kernel cache: /home/yihe/.cache/warp/0.3.1\n"
     ]
    },
    {
     "name": "stderr",
     "output_type": "stream",
     "text": [
      "\u001b[32m2022-08-05 16:24:56,265 - mani_skill2 - INFO - load sdfs from file\u001b[0m\n"
     ]
    }
   ],
   "source": [
    "env = gym.make(\"Hang-v0\", obs_mode=\"particles\", control_mode = \"pd_joint_delta_pos\")"
   ]
  },
  {
   "cell_type": "code",
   "execution_count": null,
   "metadata": {},
   "outputs": [],
   "source": []
  },
  {
   "cell_type": "code",
   "execution_count": 7,
   "metadata": {},
   "outputs": [],
   "source": [
    "from moviepy.editor import ImageSequenceClip\n",
    "def animate(imgs, fps=20):\n",
    "    imgs = ImageSequenceClip(imgs, fps=fps)\n",
    "    imgs.write_videofile('animate.mp4', fps=fps)"
   ]
  },
  {
   "cell_type": "code",
   "execution_count": 43,
   "metadata": {},
   "outputs": [],
   "source": [
    "class ManiskillDemoDataset(Dataset):\n",
    "\n",
    "    def __init__(self, h5_file) -> None:\n",
    "        self.h5_demo = GDict.from_hdf5(h5_file)\n",
    "        self.all_obs_act_pair = self.read_h5(self.h5_demo)\n",
    "    \n",
    "    def read_h5(self, h5_demo):\n",
    "        all_pair = []\n",
    "        count = 0\n",
    "        for key in h5_demo.keys():\n",
    "            traj = h5_demo[key]\n",
    "            \n",
    "            for i in range(len(traj['actions'])):\n",
    "                all_pair.append((traj['obs']['xyz'][i].reshape(-1,), traj['actions'][i]))\n",
    "            count += 1\n",
    "\n",
    "            if count == 10:\n",
    "                break\n",
    "        return all_pair\n",
    "\n",
    "    def __len__(self):\n",
    "        return len(self.all_obs_act_pair)\n",
    "    \n",
    "    def __getitem__(self, index):\n",
    "        return self.all_obs_act_pair[index]"
   ]
  },
  {
   "cell_type": "code",
   "execution_count": 44,
   "metadata": {},
   "outputs": [],
   "source": [
    "dataset = ManiskillDemoDataset(\"/home/yihe/ManiSkill2022/examples/softbody_record_demo/demos/Hang-v0/final_200traj/trajectory.none.pd_joint_delta_pos.pcd.h5\")"
   ]
  },
  {
   "cell_type": "code",
   "execution_count": 45,
   "metadata": {},
   "outputs": [],
   "source": [
    "obs, act = dataset.__getitem__(0)"
   ]
  },
  {
   "cell_type": "code",
   "execution_count": 46,
   "metadata": {},
   "outputs": [
    {
     "data": {
      "text/plain": [
       "(6144,)"
      ]
     },
     "execution_count": 46,
     "metadata": {},
     "output_type": "execute_result"
    }
   ],
   "source": [
    "obs.shape"
   ]
  },
  {
   "cell_type": "code",
   "execution_count": 47,
   "metadata": {},
   "outputs": [],
   "source": [
    "dataloader = DataLoader(dataset, batch_size=4, shuffle=True, num_workers=0)"
   ]
  },
  {
   "cell_type": "code",
   "execution_count": 48,
   "metadata": {},
   "outputs": [
    {
     "name": "stdout",
     "output_type": "stream",
     "text": [
      "torch.Size([4, 6144])\n",
      "torch.Size([4, 8])\n"
     ]
    }
   ],
   "source": [
    "for i_batch, sample_batched in enumerate(dataloader):\n",
    "    obs, act = sample_batched\n",
    "    print(obs.shape)\n",
    "    print(act.shape)\n",
    "    break"
   ]
  },
  {
   "cell_type": "code",
   "execution_count": null,
   "metadata": {},
   "outputs": [],
   "source": []
  }
 ],
 "metadata": {
  "kernelspec": {
   "display_name": "Python 3.9.12 ('pyrl': conda)",
   "language": "python",
   "name": "python3"
  },
  "language_info": {
   "codemirror_mode": {
    "name": "ipython",
    "version": 3
   },
   "file_extension": ".py",
   "mimetype": "text/x-python",
   "name": "python",
   "nbconvert_exporter": "python",
   "pygments_lexer": "ipython3",
   "version": "3.8.13"
  },
  "orig_nbformat": 4,
  "vscode": {
   "interpreter": {
    "hash": "a23a69927845faacf416f7f57c031211acd5172de78af9a1ca2e3f96f238175a"
   }
  }
 },
 "nbformat": 4,
 "nbformat_minor": 2
}
